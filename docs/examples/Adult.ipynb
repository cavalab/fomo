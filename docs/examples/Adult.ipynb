{
 "cells": [
  {
   "cell_type": "markdown",
   "id": "f572f7f5",
   "metadata": {},
   "source": [
    "# Fair Classification on Adult Dataset"
   ]
  },
  {
   "cell_type": "code",
   "execution_count": 1,
   "id": "35681fe1",
   "metadata": {},
   "outputs": [],
   "source": [
    "from pymoo.core.parameters import get_params"
   ]
  },
  {
   "cell_type": "code",
   "execution_count": 2,
   "id": "4657931a",
   "metadata": {},
   "outputs": [],
   "source": [
    "import copy\n",
    "import pytest\n",
    "import pandas as pd\n",
    "import matplotlib.pyplot as plt\n",
    "%matplotlib inline\n",
    "\n",
    "from fomo import FomoClassifier\n",
    "from sklearn.preprocessing import StandardScaler\n",
    "from sklearn.linear_model import LogisticRegression\n",
    "from sklearn.model_selection import train_test_split\n",
    "from sklearn.pipeline import Pipeline\n",
    "from sklearn.metrics import roc_auc_score, average_precision_score\n",
    "from pmlb import pmlb   \n",
    "import fomo.metrics as metrics\n",
    "from pymoo.algorithms.moo.nsga2 import NSGA2\n",
    "from pymoo.algorithms.moo.nsga3 import NSGA3\n",
    "from pymoo.util.ref_dirs import get_reference_directions\n",
    "dataset = pmlb.fetch_data('adult')\n",
    "# dataset = dataset.sample(n=2000)\n",
    "X = dataset.drop('target',axis=1)\n",
    "y = dataset['target']\n",
    "Xtrain,Xtest, ytrain,ytest = train_test_split(X,y,\n",
    "                                            stratify=y, \n",
    "                                            random_state=42,\n",
    "                                            test_size=0.5\n",
    "                                           )\n",
    "ss = StandardScaler()\n",
    "Xtrain = pd.DataFrame(ss.fit_transform(Xtrain), columns=Xtrain.columns, index=ytrain.index)\n",
    "Xtest = pd.DataFrame(ss.transform(Xtest), columns=Xtest.columns, index=ytest.index)\n",
    "groups = ['race','sex']"
   ]
  },
  {
   "cell_type": "code",
   "execution_count": null,
   "id": "15b49988",
   "metadata": {
    "scrolled": false
   },
   "outputs": [
    {
     "name": "stdout",
     "output_type": "stream",
     "text": [
      "running 8 processes\n",
      "number of variables: 24421\n",
      "number of objectives: 2\n"
     ]
    }
   ],
   "source": [
    "from sklearn.metrics import make_scorer, accuracy_score\n",
    "from fomo.problem import MLPProblem\n",
    "est = FomoClassifier(\n",
    "    estimator = LogisticRegression(),\n",
    "    accuracy_metrics=[make_scorer(metrics.FPR)],\n",
    "    fairness_metrics=[metrics.subgroup_FNR_scorer],\n",
    "    verbose=True,\n",
    "    problem_type=MLPProblem\n",
    ")\n",
    "est.fit(Xtrain,ytrain,protected_features=groups, termination=('n_gen',100))"
   ]
  },
  {
   "cell_type": "code",
   "execution_count": null,
   "id": "02925299",
   "metadata": {},
   "outputs": [],
   "source": [
    "est.plot().show()"
   ]
  },
  {
   "cell_type": "markdown",
   "id": "433b3721",
   "metadata": {},
   "source": [
    "# visualize model set\n",
    "\n",
    "`est.plot()` will return the Pareto front found during the run, with a red dot indicating the final chosen model. \n",
    "By default, Fomo uses the PseudoWeights method from pymoo to choose the final model, which produces a model near the centroid of the front. "
   ]
  },
  {
   "cell_type": "code",
   "execution_count": null,
   "id": "065dd897",
   "metadata": {},
   "outputs": [],
   "source": [
    "est.plot().show()"
   ]
  },
  {
   "cell_type": "markdown",
   "id": "6a90ff7f",
   "metadata": {},
   "source": [
    "## picking with different strategies\n",
    "\n",
    "We can also pick with other multi-criteria decision making strategies (MDCMs). \n",
    "Fomo supports the PseudoWeights, Compromise, and HighTradeoffPoints strategies from [pymoo](https://pymoo.org/mcdm). "
   ]
  },
  {
   "cell_type": "markdown",
   "id": "d3661b7f",
   "metadata": {},
   "source": [
    "Here's an example of picking with the Compromise strategy."
   ]
  },
  {
   "cell_type": "code",
   "execution_count": null,
   "id": "13e764f4",
   "metadata": {
    "scrolled": false
   },
   "outputs": [],
   "source": [
    "est.best_estimator_ = est.pick_best('PseudoWeights')\n",
    "plot = est.plot()\n",
    "plot.show()\n",
    "plt.title('Picking with PseudoWeights')\n"
   ]
  },
  {
   "cell_type": "code",
   "execution_count": null,
   "id": "d1a9b4f3",
   "metadata": {
    "scrolled": false
   },
   "outputs": [],
   "source": [
    "est.best_estimator_ = est.pick_best('Compromise')\n",
    "plot2 = est.plot()\n",
    "plot2.show()\n",
    "plt.title('Picking with Compromise')\n"
   ]
  },
  {
   "cell_type": "markdown",
   "id": "db6d5c46",
   "metadata": {},
   "source": [
    "Here's an example of picking with the HighTradeoffPoints strategy."
   ]
  },
  {
   "cell_type": "code",
   "execution_count": null,
   "id": "4f9517b6",
   "metadata": {
    "scrolled": false
   },
   "outputs": [],
   "source": [
    "est.best_estimator_ = est.pick_best('HighTradeoffPoints')\n",
    "plot3 = est.plot()\n",
    "plot3.show()\n",
    "plt.title('Picking with HighTradeoffPoints')"
   ]
  }
 ],
 "metadata": {
  "kernelspec": {
   "display_name": "Python 3 (ipykernel)",
   "language": "python",
   "name": "python3"
  },
  "language_info": {
   "codemirror_mode": {
    "name": "ipython",
    "version": 3
   },
   "file_extension": ".py",
   "mimetype": "text/x-python",
   "name": "python",
   "nbconvert_exporter": "python",
   "pygments_lexer": "ipython3",
   "version": "3.11.0"
  },
  "vscode": {
   "interpreter": {
    "hash": "b281ad3f43d3d9eccf92581845d0f5a9d4905bd74c748ff0ce6fb21059a80f8b"
   }
  }
 },
 "nbformat": 4,
 "nbformat_minor": 5
}
